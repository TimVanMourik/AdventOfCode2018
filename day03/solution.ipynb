{
 "cells": [
  {
   "cell_type": "code",
   "execution_count": null,
   "metadata": {},
   "outputs": [],
   "source": [
    "import numpy as np\n",
    "import pandas as pd\n",
    "import re"
   ]
  },
  {
   "cell_type": "code",
   "execution_count": null,
   "metadata": {},
   "outputs": [],
   "source": [
    "filename = './input.txt'\n",
    "\n",
    "claims = pd.DataFrame(columns=['id', 'x', 'y', 'width', 'height'])\n",
    "pattern ='(#)(\\\\d+)( )(@)( )(\\\\d+)(,)(\\\\d+)(:)( )(\\\\d+)(x)(\\\\d+)(\\n)'\n",
    "with open(filename) as input_file:\n",
    "    for line in input_file:\n",
    "        match = re.compile(pattern, re.IGNORECASE|re.DOTALL).search(line)\n",
    "        if match:\n",
    "            id = match.group(2)\n",
    "            x = match.group(6)\n",
    "            y = match.group(8)\n",
    "            width = match.group(11)\n",
    "            height = match.group(13)\n",
    "            row = {'id': id, \n",
    "                   'x': x, \n",
    "                   'y': y,\n",
    "                   'width': width,\n",
    "                   'height': height}\n",
    "            claims = claims.append(row, ignore_index=True)"
   ]
  },
  {
   "cell_type": "markdown",
   "metadata": {},
   "source": [
    "### Question A"
   ]
  },
  {
   "cell_type": "code",
   "execution_count": null,
   "metadata": {},
   "outputs": [],
   "source": [
    "N = 1000;\n",
    "fabric = np.zeros((N, N), dtype=int)\n",
    "for index, claim in claims.iterrows():\n",
    "    x = int(claim['x'])\n",
    "    y = int(claim['y'])\n",
    "    width = int(claim['width'])\n",
    "    height = int(claim['height'])\n",
    "    fabric[x:x+width, y:y+height] = np.add(\n",
    "        fabric[x:x+width, y:y+height],\n",
    "        np.ones((width, height), dtype=int)\n",
    "    )\n",
    "    \n",
    "sum(sum(x > 1 for x in fabric))"
   ]
  },
  {
   "cell_type": "markdown",
   "metadata": {},
   "source": [
    "### Question B"
   ]
  },
  {
   "cell_type": "code",
   "execution_count": null,
   "metadata": {},
   "outputs": [],
   "source": [
    "for index, claim in claims.iterrows():\n",
    "    singles = sum(sum(x == 1 for x in fabric))\n",
    "    x = int(claim['x'])\n",
    "    y = int(claim['y'])\n",
    "    width = int(claim['width'])\n",
    "    height = int(claim['height'])\n",
    "    \n",
    "    fabric[x:x+width, y:y+height] = np.subtract(\n",
    "        fabric[x:x+width, y:y+height],\n",
    "        np.ones((width, height), dtype=int)\n",
    "    )\n",
    "    if singles - sum(sum(x == 1 for x in fabric)) - width * height == 0:\n",
    "        print(claim['id'])\n",
    "    fabric[x:x+width, y:y+height] = np.add(\n",
    "        fabric[x:x+width, y:y+height],\n",
    "        np.ones((width, height), dtype=int)\n",
    "    )\n",
    "    \n",
    "    "
   ]
  }
 ],
 "metadata": {
  "kernelspec": {
   "display_name": "Python 3",
   "language": "python",
   "name": "python3"
  },
  "language_info": {
   "codemirror_mode": {
    "name": "ipython",
    "version": 3
   },
   "file_extension": ".py",
   "mimetype": "text/x-python",
   "name": "python",
   "nbconvert_exporter": "python",
   "pygments_lexer": "ipython3",
   "version": "3.7.0"
  }
 },
 "nbformat": 4,
 "nbformat_minor": 2
}
