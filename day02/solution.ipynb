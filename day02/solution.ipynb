{
 "cells": [
  {
   "cell_type": "code",
   "execution_count": null,
   "metadata": {},
   "outputs": [],
   "source": [
    "import numpy as np"
   ]
  },
  {
   "cell_type": "code",
   "execution_count": null,
   "metadata": {},
   "outputs": [],
   "source": [
    "filename = './input.txt'\n",
    "data = np.loadtxt(filename, dtype='str');"
   ]
  },
  {
   "cell_type": "markdown",
   "metadata": {},
   "source": [
    "### Question A"
   ]
  },
  {
   "cell_type": "code",
   "execution_count": null,
   "metadata": {},
   "outputs": [],
   "source": [
    "def countTwosAndThrees(string):\n",
    "    listCounts = list(map(string.count, set(string)))\n",
    "    return [listCounts.count(2) != 0, listCounts.count(3) != 0]\n",
    "\n",
    "twoAndThrees = list(map(countTwosAndThrees, data))\n",
    "np.prod(np.sum(twoAndThrees, axis=0))"
   ]
  },
  {
   "cell_type": "markdown",
   "metadata": {},
   "source": [
    "### Question B"
   ]
  },
  {
   "cell_type": "code",
   "execution_count": null,
   "metadata": {},
   "outputs": [],
   "source": [
    "toChar = lambda c: ord(c)\n",
    "toInt  = lambda s: list(map(toChar, s))\n",
    "def charDifference(s1, s2):\n",
    "    stringDifference = np.subtract(toInt(s1), toInt(s2))\n",
    "    return np.count_nonzero(stringDifference)\n",
    "\n",
    "\n",
    "for s1 in data:\n",
    "    for s2 in data:\n",
    "        if charDifference(s1, s2) == 1:\n",
    "            stringDifference = np.subtract(toInt(s1), toInt(s2))\n",
    "            print(''.join([s1[char] for char in np.where(stringDifference == 0)[0]]))\n"
   ]
  }
 ],
 "metadata": {
  "kernelspec": {
   "display_name": "Python 3",
   "language": "python",
   "name": "python3"
  },
  "language_info": {
   "codemirror_mode": {
    "name": "ipython",
    "version": 3
   },
   "file_extension": ".py",
   "mimetype": "text/x-python",
   "name": "python",
   "nbconvert_exporter": "python",
   "pygments_lexer": "ipython3",
   "version": "3.7.0"
  }
 },
 "nbformat": 4,
 "nbformat_minor": 2
}
