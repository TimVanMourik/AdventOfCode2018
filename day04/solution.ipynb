{
 "cells": [
  {
   "cell_type": "code",
   "execution_count": null,
   "metadata": {},
   "outputs": [],
   "source": [
    "import numpy as np\n",
    "import pandas as pd\n",
    "import re\n",
    "from datetime import datetime\n",
    "from dateutil import parser\n"
   ]
  },
  {
   "cell_type": "code",
   "execution_count": null,
   "metadata": {},
   "outputs": [],
   "source": [
    "filename = './input.txt'\n",
    "\n",
    "schedule = pd.DataFrame(columns=['hours', 'minutes', 'keyword', 'extra'])\n",
    "rg = re.compile('\\[(\\d{4}-\\d{2}-\\d{2}) (\\d{2}):(\\d{2})] ([a-zA-Z]*) ([#\\d+|a-zA-Z]*)',re.IGNORECASE|re.DOTALL)\n",
    "with open(filename) as input_file:\n",
    "    for line in input_file:\n",
    "        match = rg.search(line)\n",
    "        if match:\n",
    "            date = match.group(1)\n",
    "            hours = match.group(2)\n",
    "            minutes = match.group(3)\n",
    "\n",
    "            keyword = match.group(4)\n",
    "            extra = match.group(5)\n",
    "            row = {'date': date,\n",
    "                   'hours': hours, \n",
    "                   'minutes': minutes, \n",
    "                   'keyword': keyword, \n",
    "                   'extra': extra}\n",
    "            schedule = schedule.append(row, ignore_index=True)"
   ]
  },
  {
   "cell_type": "markdown",
   "metadata": {},
   "source": [
    "Increment day for guards that arrived early:"
   ]
  },
  {
   "cell_type": "code",
   "execution_count": null,
   "metadata": {},
   "outputs": [],
   "source": [
    "for index, guard in schedule[(schedule['keyword'] == 'Guard') & (schedule['hours'] == '23')].iterrows():\n",
    "    schedule.loc[index]['date'] = (datetime.strptime(schedule.loc[index]['date'], '%Y-%m-%d').date() + timedelta(days=1)).strftime('%Y-%m-%d')"
   ]
  },
  {
   "cell_type": "code",
   "execution_count": null,
   "metadata": {},
   "outputs": [],
   "source": [
    "all_dates = schedule['date'].unique()\n",
    "timetable = pd.DataFrame(columns=['Date', 'ID', 'Minute'])\n",
    "np.zeros((len(all_dates), 60), dtype=bool)\n",
    "for date in all_dates:\n",
    "    guard = schedule[(schedule['date'] == date) & (schedule['keyword'] == 'Guard')].iloc[0]['extra']\n",
    "    events = schedule[(schedule['date'] == date) & (schedule['keyword'] != 'Guard')].sort_values('minutes')\n",
    "    minutes = np.ones(60, dtype=bool)\n",
    "    for index, event in events.iterrows():\n",
    "        minutes[int(event['minutes']):] = ~minutes[int(event['minutes']):]\n",
    "    \n",
    "    row = {\n",
    "            'Date': date,\n",
    "            'ID': guard, \n",
    "            'Minute': minutes,\n",
    "          }\n",
    "    timetable = timetable.append(row, ignore_index=True)    "
   ]
  },
  {
   "cell_type": "markdown",
   "metadata": {},
   "source": [
    "### Question A"
   ]
  },
  {
   "cell_type": "code",
   "execution_count": null,
   "metadata": {},
   "outputs": [],
   "source": [
    "all_guards = schedule[schedule['keyword'] == 'Guard']['extra'].unique()\n",
    "guard_info = pd.DataFrame(columns=['ID', 'awake'])\n",
    "for guard in all_guards:\n",
    "    guard_nights = schedule[(schedule['extra'] == guard)]['date']\n",
    "    awake = [timetable[timetable['Date'] == night].iloc[0]['Minute'] for night in guard_nights]\n",
    "\n",
    "    row = {\n",
    "            'ID': guard, \n",
    "            'awake': sum(sum(awake) / len(guard_nights)),\n",
    "          }\n",
    "    guard_info = guard_info.append(row, ignore_index=True)   "
   ]
  },
  {
   "cell_type": "code",
   "execution_count": null,
   "metadata": {},
   "outputs": [],
   "source": [
    "awake"
   ]
  },
  {
   "cell_type": "markdown",
   "metadata": {},
   "source": [
    "### Question B"
   ]
  }
 ],
 "metadata": {
  "kernelspec": {
   "display_name": "Python 3",
   "language": "python",
   "name": "python3"
  },
  "language_info": {
   "codemirror_mode": {
    "name": "ipython",
    "version": 3
   },
   "file_extension": ".py",
   "mimetype": "text/x-python",
   "name": "python",
   "nbconvert_exporter": "python",
   "pygments_lexer": "ipython3",
   "version": "3.7.0"
  }
 },
 "nbformat": 4,
 "nbformat_minor": 2
}
